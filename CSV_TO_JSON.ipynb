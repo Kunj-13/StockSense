{
 "cells": [
  {
   "cell_type": "code",
   "execution_count": null,
   "metadata": {},
   "outputs": [],
   "source": [
    "import pandas as pd\n",
    "\n",
    "def csv_to_json(csv_file_path, json_file_path):\n",
    "    # Load the CSV file\n",
    "    data = pd.read_csv(csv_file_path)\n",
    "    \n",
    "    # Convert the dataframe to JSON\n",
    "    json_data = data.to_json(orient='records', indent=4)\n",
    "    \n",
    "    # Save the JSON data to a file\n",
    "    with open(json_file_path, 'w') as file:\n",
    "        file.write(json_data)\n",
    "\n",
    "# Example usage\n",
    "csv_file_path = './FedSpeechMay1_with_embeddings.csv'\n",
    "json_file_path = 'FedSpeechMay1_with_embeddings.json'\n",
    "csv_to_json(csv_file_path, json_file_path)\n"
   ]
  }
 ],
 "metadata": {
  "language_info": {
   "name": "python"
  }
 },
 "nbformat": 4,
 "nbformat_minor": 2
}
