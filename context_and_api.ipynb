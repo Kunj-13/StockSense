{
 "cells": [
  {
   "cell_type": "code",
   "execution_count": 1,
   "metadata": {},
   "outputs": [],
   "source": [
    "from qdrant_client import QdrantClient\n",
    "import openai\n",
    "import os "
   ]
  },
  {
   "cell_type": "code",
   "execution_count": 2,
   "metadata": {},
   "outputs": [
    {
     "data": {
      "text/plain": [
       "'1.31.0'"
      ]
     },
     "execution_count": 2,
     "metadata": {},
     "output_type": "execute_result"
    }
   ],
   "source": [
    "openai.__version__"
   ]
  },
  {
   "cell_type": "code",
   "execution_count": 3,
   "metadata": {},
   "outputs": [
    {
     "data": {
      "text/plain": [
       "<qdrant_client.qdrant_client.QdrantClient at 0x2a0e49a32f0>"
      ]
     },
     "execution_count": 3,
     "metadata": {},
     "output_type": "execute_result"
    }
   ],
   "source": [
    "openai.api_key = os.getenv('OPENAI_API_KEY')\n",
    "client = QdrantClient(url=os.getenv(\"Qdrant_cluster_url\"), \n",
    "                      api_key=os.getenv(\"Qdrant_API_KEY\"))\n",
    "client"
   ]
  },
  {
   "cell_type": "code",
   "execution_count": 5,
   "metadata": {},
   "outputs": [],
   "source": [
    "## Functions Needed\n",
    "collection_name = 'Fed_Speeches'\n",
    "\n",
    "def get_embeddings(text):\n",
    "    try:\n",
    "        response = openai.embeddings.create(\n",
    "            input=text,\n",
    "            model=\"text-embedding-3-small\"  # Check the latest documentation for available engines\n",
    "        )\n",
    "        return response.data[0].embedding  # Extracting the embedding vector\n",
    "    except Exception as e:\n",
    "        return str(e)  \n",
    "    \n",
    "\n",
    "def search(collection_name, search_vector):\n",
    "    search_response = client.search(\n",
    "    collection_name=collection_name,\n",
    "    query_vector=search_vector,\n",
    "    limit = 20)\n",
    "    return search_response\n",
    "    \n"
   ]
  },
  {
   "cell_type": "code",
   "execution_count": 6,
   "metadata": {},
   "outputs": [],
   "source": [
    "search_vector = get_embeddings(\"The economy is doing bad, there is a lot of inflation!\")\n",
    "search_response = search(collection_name, search_vector)\n",
    "\n",
    "ids = [hit.id for hit in search_response]\n",
    "# Assuming texts were stored as payload\n",
    "contexts = [hit.payload['text'] for hit in search_response]"
   ]
  },
  {
   "cell_type": "code",
   "execution_count": 9,
   "metadata": {},
   "outputs": [],
   "source": [
    "context = \" \".join(contexts)\n",
    "question = \"how is the inflation in the economy?\"\n",
    "prompt = f\"Context: {context}\\nQuestion: {question}\\nAnswer:\""
   ]
  },
  {
   "cell_type": "code",
   "execution_count": 10,
   "metadata": {},
   "outputs": [],
   "source": [
    "response = openai.completions.create(\n",
    "  model=\"gpt-3.5-turbo-instruct\",\n",
    "  prompt=prompt,\n",
    "  temperature=1,\n",
    "  max_tokens=256,\n",
    "  top_p=1,\n",
    "  frequency_penalty=0,\n",
    "  presence_penalty=0\n",
    ")"
   ]
  },
  {
   "cell_type": "code",
   "execution_count": 11,
   "metadata": {},
   "outputs": [
    {
     "data": {
      "text/plain": [
       "' It is true that inflation is a concern, especially for those in lower income brackets, but the overall economy has been strong and we are currently experiencing lower inflation rates than we have in the past. We are monitoring the situation closely and are continuing to work towards bringing inflation down to a healthier level. While there is still work to be done, the economy itself is not in a bad state.'"
      ]
     },
     "execution_count": 11,
     "metadata": {},
     "output_type": "execute_result"
    }
   ],
   "source": [
    "response.choices[0].text"
   ]
  },
  {
   "cell_type": "code",
   "execution_count": 15,
   "metadata": {},
   "outputs": [
    {
     "data": {
      "text/plain": [
       "' It is true that inflation is a concern, especially for those in lower income brackets, but the overall economy has been strong and we are currently experiencing lower inflation rates than we have in the past. We are monitoring the situation closely and are continuing to work towards bringing inflation down to a healthier level. While there is still work to be done, the economy itself is not in a bad state.'"
      ]
     },
     "execution_count": 15,
     "metadata": {},
     "output_type": "execute_result"
    }
   ],
   "source": [
    "response.choices[0].text"
   ]
  },
  {
   "cell_type": "code",
   "execution_count": null,
   "metadata": {},
   "outputs": [],
   "source": []
  }
 ],
 "metadata": {
  "kernelspec": {
   "display_name": "Python 3",
   "language": "python",
   "name": "python3"
  },
  "language_info": {
   "codemirror_mode": {
    "name": "ipython",
    "version": 3
   },
   "file_extension": ".py",
   "mimetype": "text/x-python",
   "name": "python",
   "nbconvert_exporter": "python",
   "pygments_lexer": "ipython3",
   "version": "3.12.6"
  }
 },
 "nbformat": 4,
 "nbformat_minor": 2
}
